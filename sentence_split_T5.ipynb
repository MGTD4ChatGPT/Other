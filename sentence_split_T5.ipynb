{
 "cells": [
  {
   "cell_type": "code",
   "execution_count": 4,
   "metadata": {},
   "outputs": [],
   "source": [
    "from transformers import AutoTokenizer, AutoModelForSeq2SeqLM\n",
    "\n",
    "tokenizer = AutoTokenizer.from_pretrained(\"flax-community/t5-large-wikisplit\")\n",
    "model = AutoModelForSeq2SeqLM.from_pretrained(\"flax-community/t5-large-wikisplit\")"
   ]
  },
  {
   "cell_type": "code",
   "execution_count": 5,
   "metadata": {},
   "outputs": [],
   "source": [
    "complex_sentence = \"This comedy drama is produced by Tidy, the company she co-founded in 2008 with her husband David Peet, who is managing director .\""
   ]
  },
  {
   "cell_type": "code",
   "execution_count": 6,
   "metadata": {},
   "outputs": [
    {
     "data": {
      "text/plain": [
       "'This comedy drama is produced by Tidy. She co-founded Tidy in 2008 with her husband David Peet, who is managing director.'"
      ]
     },
     "execution_count": 6,
     "metadata": {},
     "output_type": "execute_result"
    }
   ],
   "source": [
    "sample_tokenized = tokenizer(complex_sentence, return_tensors=\"pt\")\n",
    "answer = model.generate(\n",
    "    sample_tokenized['input_ids'], attention_mask=sample_tokenized['attention_mask'], max_length=256, num_beams=5)\n",
    "gene_sentence = tokenizer.decode(answer[0], skip_special_tokens=True)\n",
    "gene_sentence\n"
   ]
  }
 ],
 "metadata": {
  "kernelspec": {
   "display_name": "Python 3",
   "language": "python",
   "name": "python3"
  },
  "language_info": {
   "codemirror_mode": {
    "name": "ipython",
    "version": 3
   },
   "file_extension": ".py",
   "mimetype": "text/x-python",
   "name": "python",
   "nbconvert_exporter": "python",
   "pygments_lexer": "ipython3",
   "version": "3.8.2"
  },
  "orig_nbformat": 4
 },
 "nbformat": 4,
 "nbformat_minor": 2
}
